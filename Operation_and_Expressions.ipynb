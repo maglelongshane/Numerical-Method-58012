{
  "nbformat": 4,
  "nbformat_minor": 0,
  "metadata": {
    "colab": {
      "name": "Operation_and_Expressions.ipynb",
      "provenance": [],
      "authorship_tag": "ABX9TyMjEozlt+QcdmHPMaDooG6t",
      "include_colab_link": true
    },
    "kernelspec": {
      "name": "python3",
      "display_name": "Python 3"
    },
    "language_info": {
      "name": "python"
    }
  },
  "cells": [
    {
      "cell_type": "markdown",
      "metadata": {
        "id": "view-in-github",
        "colab_type": "text"
      },
      "source": [
        "<a href=\"https://colab.research.google.com/github/maglelongshane/Numerical-Method-58012/blob/main/Operation_and_Expressions.ipynb\" target=\"_parent\"><img src=\"https://colab.research.google.com/assets/colab-badge.svg\" alt=\"Open In Colab\"/></a>"
      ]
    },
    {
      "cell_type": "markdown",
      "source": [
        "Boolean Operators"
      ],
      "metadata": {
        "id": "BpXGUFZNhgpt"
      }
    },
    {
      "cell_type": "code",
      "source": [
        "print(10>9)\n",
        "print(10<9)\n",
        "print(10==9)"
      ],
      "metadata": {
        "colab": {
          "base_uri": "https://localhost:8080/"
        },
        "id": "mmNszeaphiYo",
        "outputId": "092540a3-a144-433c-fcb6-728f9468dcb8"
      },
      "execution_count": 1,
      "outputs": [
        {
          "output_type": "stream",
          "name": "stdout",
          "text": [
            "True\n",
            "False\n",
            "False\n"
          ]
        }
      ]
    },
    {
      "cell_type": "code",
      "source": [
        "a = 10\n",
        "b = 9\n",
        "\n",
        "print (a>b)\n",
        "print (a<b)\n",
        "print (a==b)"
      ],
      "metadata": {
        "colab": {
          "base_uri": "https://localhost:8080/"
        },
        "id": "6YEb0x4kht6E",
        "outputId": "960d3fec-8356-4914-e7fc-dcfe534d7564"
      },
      "execution_count": 2,
      "outputs": [
        {
          "output_type": "stream",
          "name": "stdout",
          "text": [
            "True\n",
            "False\n",
            "False\n"
          ]
        }
      ]
    },
    {
      "cell_type": "markdown",
      "source": [
        "Bool () Function"
      ],
      "metadata": {
        "id": "yyvmKr7Dhw-T"
      }
    },
    {
      "cell_type": "code",
      "source": [
        "print (bool(1))\n",
        "print (bool(0))\n",
        "print (bool(\"Shane\"))\n",
        "print (bool(None))\n",
        "print (bool(0))"
      ],
      "metadata": {
        "colab": {
          "base_uri": "https://localhost:8080/"
        },
        "id": "wAr_t5PVhyKI",
        "outputId": "0b984f20-9ba9-46ab-aa10-fffa9dd4b7ca"
      },
      "execution_count": 3,
      "outputs": [
        {
          "output_type": "stream",
          "name": "stdout",
          "text": [
            "True\n",
            "False\n",
            "True\n",
            "False\n",
            "False\n"
          ]
        }
      ]
    },
    {
      "cell_type": "markdown",
      "source": [
        "Functions return as Boolean"
      ],
      "metadata": {
        "id": "-jcTnDgqh4v8"
      }
    },
    {
      "cell_type": "code",
      "source": [
        "def my_Function():\n",
        "  return True\n",
        "\n",
        "  if my_Function():\n",
        "    print (\"Yes\")\n",
        "  else:\n",
        "    print (\"No\")\n",
        "\n",
        "print (my_Function())"
      ],
      "metadata": {
        "colab": {
          "base_uri": "https://localhost:8080/"
        },
        "id": "fPZ5yti7h6t3",
        "outputId": "e1a831e3-ae76-4309-81aa-fb7dc96dd550"
      },
      "execution_count": 4,
      "outputs": [
        {
          "output_type": "stream",
          "name": "stdout",
          "text": [
            "True\n"
          ]
        }
      ]
    },
    {
      "cell_type": "code",
      "source": [
        "print (10>9)\n",
        "\n",
        "a=6\n",
        "b=7\n",
        "\n",
        "print (a==b)\n",
        "print (a!=a)"
      ],
      "metadata": {
        "colab": {
          "base_uri": "https://localhost:8080/"
        },
        "id": "0q5eShQMh9mb",
        "outputId": "88ab0899-e7f2-49e7-84b5-b203e9c0685d"
      },
      "execution_count": 5,
      "outputs": [
        {
          "output_type": "stream",
          "name": "stdout",
          "text": [
            "True\n",
            "False\n",
            "False\n"
          ]
        }
      ]
    },
    {
      "cell_type": "code",
      "source": [
        "print (10+5)\n",
        "print (10-5)\n",
        "print (10*5)\n",
        "print (10/5)\n",
        "print (10%5)\n",
        "print (10//5)\n",
        "print (10**5)"
      ],
      "metadata": {
        "colab": {
          "base_uri": "https://localhost:8080/"
        },
        "id": "XfBL9-Bsh_0E",
        "outputId": "07875349-1a09-41d9-b898-bfae7467e2c3"
      },
      "execution_count": 6,
      "outputs": [
        {
          "output_type": "stream",
          "name": "stdout",
          "text": [
            "15\n",
            "5\n",
            "50\n",
            "2.0\n",
            "0\n",
            "2\n",
            "100000\n"
          ]
        }
      ]
    },
    {
      "cell_type": "markdown",
      "source": [
        "Python Operators"
      ],
      "metadata": {
        "id": "JwVzyzFMiBuQ"
      }
    },
    {
      "cell_type": "code",
      "source": [
        "print (2+5)\n",
        "print (2-5)\n",
        "print (2*5)\n",
        "print (5/2)\n",
        "print (5//2)\n",
        "print (5**2)"
      ],
      "metadata": {
        "colab": {
          "base_uri": "https://localhost:8080/"
        },
        "id": "wNcyn3VxiCZm",
        "outputId": "1f768af7-0ddb-41f7-e550-69e988e0cef8"
      },
      "execution_count": 7,
      "outputs": [
        {
          "output_type": "stream",
          "name": "stdout",
          "text": [
            "7\n",
            "-3\n",
            "10\n",
            "2.5\n",
            "2\n",
            "25\n"
          ]
        }
      ]
    },
    {
      "cell_type": "markdown",
      "source": [
        "Bitwise Operators"
      ],
      "metadata": {
        "id": "CS51VoHxiFha"
      }
    },
    {
      "cell_type": "code",
      "source": [
        "a = 60\n",
        "b = 13\n",
        "print (a&b)\n",
        "print (a|b)\n",
        "print (a^b)"
      ],
      "metadata": {
        "colab": {
          "base_uri": "https://localhost:8080/"
        },
        "id": "fSzgfQZBiGxV",
        "outputId": "e1af359e-ae14-4099-eb7d-c0a0575f8cf0"
      },
      "execution_count": 8,
      "outputs": [
        {
          "output_type": "stream",
          "name": "stdout",
          "text": [
            "12\n",
            "61\n",
            "49\n"
          ]
        }
      ]
    },
    {
      "cell_type": "markdown",
      "source": [
        "Assignment Operators"
      ],
      "metadata": {
        "id": "moh5izwbiIfa"
      }
    },
    {
      "cell_type": "code",
      "source": [
        "a += 3 \n",
        "print (a)"
      ],
      "metadata": {
        "colab": {
          "base_uri": "https://localhost:8080/"
        },
        "id": "yWxOEPjbiJ_o",
        "outputId": "c82b6091-b287-426a-8508-85504dedebb9"
      },
      "execution_count": 9,
      "outputs": [
        {
          "output_type": "stream",
          "name": "stdout",
          "text": [
            "63\n"
          ]
        }
      ]
    },
    {
      "cell_type": "markdown",
      "source": [
        "Logical Operators"
      ],
      "metadata": {
        "id": "9c6rMh0jiMRo"
      }
    },
    {
      "cell_type": "code",
      "source": [
        "x = True\n",
        "y = False\n",
        "\n",
        "print (x and y)\n",
        "print (x or y)\n",
        "not (print(x and y))"
      ],
      "metadata": {
        "colab": {
          "base_uri": "https://localhost:8080/"
        },
        "id": "Jergj1r5iNd7",
        "outputId": "e07aa824-92c5-46e3-d850-3a07ba482d52"
      },
      "execution_count": 10,
      "outputs": [
        {
          "output_type": "stream",
          "name": "stdout",
          "text": [
            "False\n",
            "True\n",
            "False\n"
          ]
        },
        {
          "output_type": "execute_result",
          "data": {
            "text/plain": [
              "True"
            ]
          },
          "metadata": {},
          "execution_count": 10
        }
      ]
    },
    {
      "cell_type": "markdown",
      "source": [
        "Identity Operators"
      ],
      "metadata": {
        "id": "K9LsJjJliPK6"
      }
    },
    {
      "cell_type": "code",
      "source": [
        "print (x is y)\n",
        "print (x is x)\n",
        "\n",
        "print (x is not y)"
      ],
      "metadata": {
        "colab": {
          "base_uri": "https://localhost:8080/"
        },
        "id": "zRi3bgxpiQjP",
        "outputId": "ac1fc8d8-bf71-4552-c03f-5c791b96f8c1"
      },
      "execution_count": 11,
      "outputs": [
        {
          "output_type": "stream",
          "name": "stdout",
          "text": [
            "False\n",
            "True\n",
            "True\n"
          ]
        }
      ]
    }
  ]
}